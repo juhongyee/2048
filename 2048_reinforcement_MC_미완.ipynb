{
 "cells": [
  {
   "cell_type": "code",
   "execution_count": 15,
   "id": "f6cfd57a",
   "metadata": {},
   "outputs": [],
   "source": [
    "import Env2048\n",
    "import numpy as np"
   ]
  },
  {
   "cell_type": "code",
   "execution_count": null,
   "id": "b593a938",
   "metadata": {},
   "outputs": [],
   "source": [
    "class MC_agent:\n",
    "    def __init__(self):\n",
    "        self.env = Env2048.Game2048()\n",
    "        self.action = ['L','R','U','D'] #좌,우,위,아래\n",
    "        self.value_list = {}\n",
    "        self.gamma = 0.95\n",
    "        self.e = 0.1\n",
    "        self.num_episodes = 1000000\n",
    "    \n",
    "    def get_action(self,state):\n",
    "        if np.random.randn < self.e :\n",
    "            idx = np.random.choice(len(self.action),1)[0]\n",
    "        else:\n",
    "            next_values = np.array([])\n",
    "            \n",
    "            #각 이동시 얻을 수 있는 값들 저장\n",
    "            #up\n",
    "            next_state = self.env.move_up(state,1)\n",
    "            self.value_list[next_state] = self.value_list(next_state,0) #value_list에 없으면 0 그 value를 0으로\n",
    "            next_values.append(self.value_list[next_state])\n",
    "            \n",
    "            #down\n",
    "            next_state = self.env.move_down(state,1)\n",
    "            self.value_list[next_state] = self.value_list(next_state,0)\n",
    "            next_values.append(self.value_list[next_state])\n",
    "            \n",
    "            #left\n",
    "            next_state = self.env.move_left(state,1)\n",
    "            self.value_list[next_state] = self.value_list(next_state,0)\n",
    "            next_values.append(self.value_list[next_state])\n",
    "            \n",
    "            #right\n",
    "            next_state = self.env.move_right(state,1)\n",
    "            self.value_list[next_state] = self.value_list(next_state,0)\n",
    "            next_values.append(self.value_list[next_state])\n",
    "            \n",
    "            max_val = max(next_values)\n",
    "            \n",
    "            action_list = np.where(next_values == max_val)[0]\n",
    "            \n",
    "            if len(action) > 1:\n",
    "                idx = np.random.choice(action,1)[0]\n",
    "            else:\n",
    "                idx = action_list[0]\n",
    "            \n",
    "            action = self.action[idx]\n",
    "            \n",
    "        return action\n",
    "\n",
    "\n",
    "    def update(self):\n",
    "        G_t = 0\n",
    "        visit_states = []\n",
    "        for \n",
    "        "
   ]
  }
 ],
 "metadata": {
  "kernelspec": {
   "display_name": "Python 3 (ipykernel)",
   "language": "python",
   "name": "python3"
  },
  "language_info": {
   "codemirror_mode": {
    "name": "ipython",
    "version": 3
   },
   "file_extension": ".py",
   "mimetype": "text/x-python",
   "name": "python",
   "nbconvert_exporter": "python",
   "pygments_lexer": "ipython3",
   "version": "3.9.12"
  }
 },
 "nbformat": 4,
 "nbformat_minor": 5
}
