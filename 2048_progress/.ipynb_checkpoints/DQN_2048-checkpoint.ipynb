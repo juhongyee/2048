{
 "cells": [
  {
   "cell_type": "code",
   "execution_count": 1,
   "id": "a0a2f993",
   "metadata": {
    "colab": {
     "base_uri": "https://localhost:8080/"
    },
    "executionInfo": {
     "elapsed": 15743,
     "status": "ok",
     "timestamp": 1686311425917,
     "user": {
      "displayName": "이주홍",
      "userId": "01543616255682921881"
     },
     "user_tz": -540
    },
    "id": "S_YcPSQbIIqy",
    "outputId": "afc54381-deb0-41bc-9ab6-4ef690eaa2bb"
   },
   "outputs": [
    {
     "name": "stdout",
     "output_type": "stream",
     "text": [
      "Mounted at /content/drive\n"
     ]
    }
   ],
   "source": [
    "# from google.colab import drive\n",
    "# drive.mount('/content/drive')"
   ]
  },
  {
   "cell_type": "code",
   "execution_count": 2,
   "id": "0756a3ff",
   "metadata": {
    "executionInfo": {
     "elapsed": 454,
     "status": "ok",
     "timestamp": 1686311785093,
     "user": {
      "displayName": "이주홍",
      "userId": "01543616255682921881"
     },
     "user_tz": -540
    },
    "id": "fuyWLPbdINrj"
   },
   "outputs": [],
   "source": [
    "# import os"
   ]
  },
  {
   "cell_type": "code",
   "execution_count": 3,
   "id": "6cb2f8ee",
   "metadata": {
    "colab": {
     "base_uri": "https://localhost:8080/"
    },
    "executionInfo": {
     "elapsed": 2,
     "status": "ok",
     "timestamp": 1686311785363,
     "user": {
      "displayName": "이주홍",
      "userId": "01543616255682921881"
     },
     "user_tz": -540
    },
    "id": "hHFcVH_sIaZy",
    "outputId": "d5269fd7-0ca7-4e9e-d210-d5a0b4f545b0"
   },
   "outputs": [
    {
     "name": "stdout",
     "output_type": "stream",
     "text": [
      "/content/drive/MyDrive/2048 Final\n"
     ]
    }
   ],
   "source": [
    "# cd /content/drive/MyDrive/2048 Final"
   ]
  },
  {
   "cell_type": "code",
   "execution_count": 1,
   "id": "66a54d2b",
   "metadata": {
    "executionInfo": {
     "elapsed": 6020,
     "status": "ok",
     "timestamp": 1686311792568,
     "user": {
      "displayName": "이주홍",
      "userId": "01543616255682921881"
     },
     "user_tz": -540
    },
    "id": "1ab1e506"
   },
   "outputs": [],
   "source": [
    "import math, random\n",
    "from collections import deque\n",
    "\n",
    "import game_2048\n",
    "import Group\n",
    "\n",
    "import gym\n",
    "import numpy as np\n",
    "\n",
    "import torch\n",
    "import torch.nn as nn\n",
    "import torch.optim as optim\n",
    "import torch.autograd as autograd\n",
    "import torch.nn.functional as F"
   ]
  },
  {
   "cell_type": "code",
   "execution_count": 5,
   "id": "0942aa88",
   "metadata": {
    "executionInfo": {
     "elapsed": 286,
     "status": "ok",
     "timestamp": 1686311887996,
     "user": {
      "displayName": "이주홍",
      "userId": "01543616255682921881"
     },
     "user_tz": -540
    },
    "id": "69fc2c7a"
   },
   "outputs": [],
   "source": [
    "from IPython.display import clear_output\n",
    "import matplotlib.pyplot as plt\n",
    "%matplotlib inline"
   ]
  },
  {
   "cell_type": "code",
   "execution_count": 6,
   "id": "8e64868a",
   "metadata": {
    "executionInfo": {
     "elapsed": 3,
     "status": "ok",
     "timestamp": 1686311888281,
     "user": {
      "displayName": "이주홍",
      "userId": "01543616255682921881"
     },
     "user_tz": -540
    },
    "id": "06bc8d41"
   },
   "outputs": [],
   "source": [
    "#m1에서 돌릴 때 GPU 사용을 위한 code...I'll do later.\n",
    "#mps_device = torch.device(\"mps\")"
   ]
  },
  {
   "cell_type": "code",
   "execution_count": 30,
   "id": "c433badb",
   "metadata": {
    "executionInfo": {
     "elapsed": 3,
     "status": "ok",
     "timestamp": 1686316646343,
     "user": {
      "displayName": "이주홍",
      "userId": "01543616255682921881"
     },
     "user_tz": -540
    },
    "id": "efcfa2d3"
   },
   "outputs": [],
   "source": [
    "num_frames = 200000\n",
    "batch_size = 256\n",
    "gamma = 0.99"
   ]
  },
  {
   "cell_type": "code",
   "execution_count": 8,
   "id": "9e7bdd28",
   "metadata": {
    "executionInfo": {
     "elapsed": 3,
     "status": "ok",
     "timestamp": 1686311888281,
     "user": {
      "displayName": "이주홍",
      "userId": "01543616255682921881"
     },
     "user_tz": -540
    },
    "id": "3da1c9fd"
   },
   "outputs": [],
   "source": [
    "device = torch.device(\"cuda\" if torch.cuda.is_available() else \"cpu\")"
   ]
  },
  {
   "cell_type": "code",
   "execution_count": 9,
   "id": "c52d8940",
   "metadata": {
    "executionInfo": {
     "elapsed": 3,
     "status": "ok",
     "timestamp": 1686311888281,
     "user": {
      "displayName": "이주홍",
      "userId": "01543616255682921881"
     },
     "user_tz": -540
    },
    "id": "8c40218e"
   },
   "outputs": [],
   "source": [
    "class ReplayBuffer(object):\n",
    "    def __init__(self, capacity):\n",
    "        self.buffer = deque(maxlen = capacity)\n",
    "    \n",
    "    def push(self, state, action, reward, next_state, done):\n",
    "        state = np.expand_dims(state,0)\n",
    "        #1x4를 1x1x4로 making for multithreading\n",
    "        next_state = np.expand_dims(next_state,0)\n",
    "        \n",
    "        self.buffer.append((state,action,reward,next_state,done)) #deque에 numpy arr이 들어간다는 사실\n",
    "        \n",
    "    def sample(self,batch_size):\n",
    "        state, action, reward, next_state, done = zip(*random.sample(self.buffer, batch_size))\n",
    "        #concaternate를 return한다는 것이 무슨 뜻이지?\n",
    "        return np.concatenate(state), action, reward, np.concatenate(next_state), done\n",
    "    \n",
    "    def __len__(self):\n",
    "        return len(self.buffer)"
   ]
  },
  {
   "cell_type": "code",
   "execution_count": 10,
   "id": "59893baf",
   "metadata": {
    "executionInfo": {
     "elapsed": 290,
     "status": "ok",
     "timestamp": 1686311888569,
     "user": {
      "displayName": "이주홍",
      "userId": "01543616255682921881"
     },
     "user_tz": -540
    },
    "id": "785ed0c8"
   },
   "outputs": [],
   "source": [
    "env = game_2048.Game2048()"
   ]
  },
  {
   "cell_type": "code",
   "execution_count": 43,
   "id": "46ae5a57",
   "metadata": {
    "executionInfo": {
     "elapsed": 2,
     "status": "ok",
     "timestamp": 1686329089013,
     "user": {
      "displayName": "이주홍",
      "userId": "01543616255682921881"
     },
     "user_tz": -540
    },
    "id": "734869f0"
   },
   "outputs": [],
   "source": [
    "epsilon_start = 1.0\n",
    "epsilon_final = 0.1\n",
    "epsilon_decay = 0.5\n",
    "\n",
    "#단순 1/500이 아니라 exp(-x/500)\n",
    "epsilon_by_frame = lambda frame_idx : epsilon_final + (epsilon_start - epsilon_final)*math.exp(-1.*frame_idx/epsilon_decay)\n"
   ]
  },
  {
   "cell_type": "code",
   "execution_count": 36,
   "id": "b289dc3d",
   "metadata": {
    "colab": {
     "base_uri": "https://localhost:8080/",
     "height": 448
    },
    "executionInfo": {
     "elapsed": 395,
     "status": "ok",
     "timestamp": 1686324542533,
     "user": {
      "displayName": "이주홍",
      "userId": "01543616255682921881"
     },
     "user_tz": -540
    },
    "id": "d93ba995",
    "outputId": "cdbea47f-4b4d-47f8-e9be-21c9e80d472f"
   },
   "outputs": [
    {
     "data": {
      "text/plain": [
       "[<matplotlib.lines.Line2D at 0x7f784512b040>]"
      ]
     },
     "execution_count": 36,
     "metadata": {},
     "output_type": "execute_result"
    },
    {
     "data": {
      "image/png": "[encoded data removed]",
      "text/plain": [
       "<Figure size 640x480 with 1 Axes>"
      ]
     },
     "metadata": {},
     "output_type": "display_data"
    }
   ],
   "source": [
    "plt.plot([epsilon_by_frame(i) for i in range(100000)])"
   ]
  },
  {
   "cell_type": "markdown",
   "id": "b1d185f9",
   "metadata": {
    "id": "d38a5fed"
   },
   "source": [
    "# Deep Q Network"
   ]
  },
  {
   "cell_type": "code",
   "execution_count": 13,
   "id": "c5b69bcb",
   "metadata": {
    "executionInfo": {
     "elapsed": 4,
     "status": "ok",
     "timestamp": 1686311888964,
     "user": {
      "displayName": "이주홍",
      "userId": "01543616255682921881"
     },
     "user_tz": -540
    },
    "id": "a733df59"
   },
   "outputs": [],
   "source": [
    "class DQN(nn.Module):\n",
    "    def __init__(self,num_inputs,num_actions):\n",
    "        super(DQN, self).__init__() #nn.Module class의 init\n",
    "        \n",
    "        #함수 pointer 같은 것\n",
    "        self.layer1 = nn.Sequential(\n",
    "            nn.Conv2d(1,16,kernel_size=3,padding=1),\n",
    "            nn.GELU(),\n",
    "            nn.BatchNorm2d(16),\n",
    "            nn.Conv2d(16,32,kernel_size=3,padding=1),\n",
    "            nn.GELU(),\n",
    "            nn.BatchNorm2d(32),\n",
    "          )\n",
    "        self.layer_fc = nn.Sequential(\n",
    "            nn.Linear(1024,512),\n",
    "            nn.GELU(),\n",
    "            nn.BatchNorm1d(512),\n",
    "            nn.Linear(512,256),\n",
    "            nn.GELU(),\n",
    "            nn.BatchNorm1d(256),\n",
    "            nn.Linear(256,128),\n",
    "            nn.GELU(),\n",
    "            nn.BatchNorm1d(128),\n",
    "            nn.Linear(128,50),\n",
    "            nn.GELU(),\n",
    "            nn.BatchNorm1d(50),\n",
    "            nn.Linear(50,num_actions),\n",
    "        )\n",
    "        self.layer2 = nn.Sequential(\n",
    "            nn.Conv2d(32,48,kernel_size=3,padding=1),\n",
    "            nn.GELU(),\n",
    "            nn.BatchNorm2d(48),\n",
    "            nn.Conv2d(48,64,kernel_size=3,padding=1),\n",
    "            nn.GELU(),\n",
    "            nn.BatchNorm2d(64),\n",
    "          )\n",
    "        \n",
    "    def forward(self, x):\n",
    "        x = self.layer1(x)+x\n",
    "        x = self.layer2(x)\n",
    "        x = x.view(-1,16*64)\n",
    "        return self.layer_fc(x)\n",
    "\n",
    "    def act(self,state,epsilon):\n",
    "        #epsilon-greedy\n",
    "        if np.random.rand(1)[0] > epsilon:\n",
    "            state = torch.tensor(state,dtype=torch.float32)#0번 자리에 차원 하나 추가\n",
    "            state = state.to(device)\n",
    "            #state = torch.flatten(state)\n",
    "            state = state.unsqueeze(0)\n",
    "            state = state.unsqueeze(0)\n",
    "            q_value = self.forward(state)\n",
    "            #1X2로부터 최대를 구하기 위해 row의 최대 .max(1) max인 것의[1]은 idx, 요거는 하나이므로 .data[0]\n",
    "            action = int(q_value.max(1)[1]) #q_value의 second dim에서 Q_value와 index를 묶은 tuple을\n",
    "\n",
    "        else:\n",
    "            action = random.randrange(4)\n",
    "        return action"
   ]
  },
  {
   "cell_type": "code",
   "execution_count": 14,
   "id": "b45e26ca",
   "metadata": {
    "executionInfo": {
     "elapsed": 5560,
     "status": "ok",
     "timestamp": 1686311894520,
     "user": {
      "displayName": "이주홍",
      "userId": "01543616255682921881"
     },
     "user_tz": -540
    },
    "id": "c026ff30"
   },
   "outputs": [],
   "source": [
    "local_network = DQN(16,4)\n",
    "target_network = DQN(16,4)\n",
    "\n",
    "local_network = local_network.to(device)\n",
    "target_network = target_network.to(device)\n",
    "\n",
    "optimizer = optim.Adam(local_network.parameters())\n",
    "\n",
    "replay_buffer = ReplayBuffer(1024)"
   ]
  },
  {
   "cell_type": "markdown",
   "id": "49448cf1",
   "metadata": {
    "id": "6f946edf"
   },
   "source": [
    "# Computing Temporal Difference Loss"
   ]
  },
  {
   "cell_type": "code",
   "execution_count": 15,
   "id": "9903e520",
   "metadata": {
    "executionInfo": {
     "elapsed": 24,
     "status": "ok",
     "timestamp": 1686311894521,
     "user": {
      "displayName": "이주홍",
      "userId": "01543616255682921881"
     },
     "user_tz": -540
    },
    "id": "23105c7f"
   },
   "outputs": [],
   "source": [
    "def compute_td_loss(batch_size):\n",
    "    local_network.train()\n",
    "\n",
    "    state, action, reward, next_state, done = replay_buffer.sample(batch_size)\n",
    "    \n",
    "    state = torch.tensor(state,dtype=torch.float32).to(device)\n",
    "    state = state.view([batch_size,1,4,4])\n",
    "    next_state = torch.tensor(next_state,dtype=torch.float32).to(device)\n",
    "    next_state = state.view([batch_size,1,4,4])\n",
    "    action = torch.tensor(action,dtype=torch.int64).unsqueeze(1)\n",
    "    action = action\n",
    "    action = action.to(device)\n",
    "    reward = torch.tensor(reward,dtype=torch.float32).to(device)\n",
    "    done = torch.tensor(done,dtype=torch.float32).to(device)\n",
    "    #print(state.shape)\n",
    "    q_values = local_network(state)\n",
    "    next_q_values = target_network(next_state)\n",
    "    #print(next_q_values)\n",
    "    q_value = torch.gather(q_values,1,action)\n",
    "    \n",
    "    next_q_value = next_q_values.max(1)[0] #제일 큰 값으로 선택\n",
    "    \n",
    "    expected_q_value = reward + gamma *next_q_value*(1-done)\n",
    "    q_value = q_value.squeeze(1)\n",
    "    loss_func = nn.MSELoss()\n",
    "    loss = loss_func(expected_q_value,q_value)\n",
    "    \n",
    "    optimizer.zero_grad()\n",
    "    loss.backward()\n",
    "    optimizer.step()\n",
    "    \n",
    "    return loss\n",
    "    "
   ]
  },
  {
   "cell_type": "code",
   "execution_count": 16,
   "id": "d99793f8",
   "metadata": {
    "executionInfo": {
     "elapsed": 23,
     "status": "ok",
     "timestamp": 1686311894521,
     "user": {
      "displayName": "이주홍",
      "userId": "01543616255682921881"
     },
     "user_tz": -540
    },
    "id": "112e57b2"
   },
   "outputs": [],
   "source": [
    "def plot(frame_idx,losses,rewards):\n",
    "    clear_output(True)\n",
    "    plt.figure(figsize=(20,5))\n",
    "    plt.subplot(131)\n",
    "    plt.title('frame %s. reward: %s' % (frame_idx,rewards[-1]))\n",
    "    plt.plot(rewards)\n",
    "    plt.subplot(132)\n",
    "    plt.title('loss')\n",
    "    plt.plot(losses)\n",
    "    plt.show()"
   ]
  },
  {
   "cell_type": "markdown",
   "id": "e2c811dc",
   "metadata": {
    "id": "3dc5d89a"
   },
   "source": [
    "# Training"
   ]
  },
  {
   "cell_type": "code",
   "execution_count": 38,
   "id": "a9a54744",
   "metadata": {
    "executionInfo": {
     "elapsed": 259,
     "status": "ok",
     "timestamp": 1686324598660,
     "user": {
      "displayName": "이주홍",
      "userId": "01543616255682921881"
     },
     "user_tz": -540
    },
    "id": "XM0YeFuWFlk6"
   },
   "outputs": [],
   "source": [
    "losses = []\n",
    "all_rewards = deque(maxlen = 100)\n",
    "mean_rewards = []\n",
    "episode_reward = 0\n",
    "count = 0\n",
    "env.reset()\n",
    "maximum_reward = 0\n",
    "best_model_params_path = \"/content/drive/MyDrive/2048 Final/DDQN.pt\""
   ]
  },
  {
   "cell_type": "code",
   "execution_count": null,
   "id": "fcda8b9c",
   "metadata": {
    "colab": {
     "background_save": true,
     "base_uri": "https://localhost:8080/",
     "height": 1000
    },
    "id": "c6ca7e4c",
    "scrolled": true
   },
   "outputs": [
    {
     "data": {
      "image/png": "[encoded data removed]",
      "text/plain": [
       "<Figure size 2000x500 with 2 Axes>"
      ]
     },
     "metadata": {},
     "output_type": "display_data"
    },
    {
     "name": "stderr",
     "output_type": "stream",
     "text": [
      "ERROR:root:Internal Python error in the inspect module.\n",
      "Below is the traceback from this internal error.\n",
      "\n",
      "ERROR:root:Internal Python error in the inspect module.\n",
      "Below is the traceback from this internal error.\n",
      "\n",
      "ERROR:root:Internal Python error in the inspect module.\n",
      "Below is the traceback from this internal error.\n",
      "\n"
     ]
    },
    {
     "name": "stdout",
     "output_type": "stream",
     "text": [
      "Traceback (most recent call last):\n",
      "  File \"/usr/local/lib/python3.10/dist-packages/IPython/core/interactiveshell.py\", line 3553, in run_code\n",
      "    exec(code_obj, self.user_global_ns, self.user_ns)\n",
      "  File \"<ipython-input-44-0fa1705d6097>\", line 30, in <cell line: 2>\n",
      "    loss = compute_td_loss(batch_size)\n",
      "  File \"<ipython-input-15-4414c1f1bddb>\", line 24, in compute_td_loss\n",
      "    q_value = q_value.squeeze(1)\n",
      "KeyboardInterrupt\n",
      "\n",
      "During handling of the above exception, another exception occurred:\n",
      "\n",
      "Traceback (most recent call last):\n",
      "  File \"/usr/local/lib/python3.10/dist-packages/IPython/core/interactiveshell.py\", line 2099, in showtraceback\n",
      "    stb = value._render_traceback_()\n",
      "AttributeError: 'KeyboardInterrupt' object has no attribute '_render_traceback_'\n",
      "\n",
      "During handling of the above exception, another exception occurred:\n",
      "\n",
      "Traceback (most recent call last):\n",
      "  File \"/usr/local/lib/python3.10/dist-packages/IPython/core/ultratb.py\", line 1101, in get_records\n",
      "    return _fixed_getinnerframes(etb, number_of_lines_of_context, tb_offset)\n",
      "  File \"/usr/local/lib/python3.10/dist-packages/IPython/core/ultratb.py\", line 248, in wrapped\n",
      "    return f(*args, **kwargs)\n",
      "  File \"/usr/local/lib/python3.10/dist-packages/IPython/core/ultratb.py\", line 281, in _fixed_getinnerframes\n",
      "    records = fix_frame_records_filenames(inspect.getinnerframes(etb, context))\n",
      "  File \"/usr/lib/python3.10/inspect.py\", line 1662, in getinnerframes\n",
      "    frameinfo = (tb.tb_frame,) + getframeinfo(tb, context)\n",
      "  File \"/usr/lib/python3.10/inspect.py\", line 1620, in getframeinfo\n",
      "    filename = getsourcefile(frame) or getfile(frame)\n",
      "  File \"/usr/lib/python3.10/inspect.py\", line 829, in getsourcefile\n",
      "    module = getmodule(object, filename)\n",
      "  File \"/usr/lib/python3.10/inspect.py\", line 861, in getmodule\n",
      "    file = getabsfile(object, _filename)\n",
      "  File \"/usr/lib/python3.10/inspect.py\", line 845, in getabsfile\n",
      "    return os.path.normcase(os.path.abspath(_filename))\n",
      "  File \"/usr/lib/python3.10/posixpath.py\", line 384, in abspath\n",
      "    cwd = os.getcwd()\n",
      "OSError: [Errno 107] Transport endpoint is not connected\n",
      "Traceback (most recent call last):\n",
      "  File \"/usr/local/lib/python3.10/dist-packages/IPython/core/interactiveshell.py\", line 3553, in run_code\n",
      "    exec(code_obj, self.user_global_ns, self.user_ns)\n",
      "  File \"<ipython-input-44-0fa1705d6097>\", line 30, in <cell line: 2>\n",
      "    loss = compute_td_loss(batch_size)\n",
      "  File \"<ipython-input-15-4414c1f1bddb>\", line 24, in compute_td_loss\n",
      "    q_value = q_value.squeeze(1)\n",
      "KeyboardInterrupt\n",
      "\n",
      "During handling of the above exception, another exception occurred:\n",
      "\n",
      "Traceback (most recent call last):\n",
      "  File \"/usr/local/lib/python3.10/dist-packages/IPython/core/interactiveshell.py\", line 2099, in showtraceback\n",
      "    stb = value._render_traceback_()\n",
      "AttributeError: 'KeyboardInterrupt' object has no attribute '_render_traceback_'\n",
      "\n",
      "During handling of the above exception, another exception occurred:\n",
      "\n",
      "Traceback (most recent call last):\n",
      "  File \"/usr/local/lib/python3.10/dist-packages/IPython/core/interactiveshell.py\", line 3473, in run_ast_nodes\n",
      "    if (await self.run_code(code, result,  async_=asy)):\n",
      "  File \"/usr/local/lib/python3.10/dist-packages/IPython/core/interactiveshell.py\", line 3575, in run_code\n",
      "    self.showtraceback(running_compiled_code=True)\n",
      "  File \"/usr/local/lib/python3.10/dist-packages/IPython/core/interactiveshell.py\", line 2101, in showtraceback\n",
      "    stb = self.InteractiveTB.structured_traceback(etype,\n",
      "  File \"/usr/local/lib/python3.10/dist-packages/IPython/core/ultratb.py\", line 1367, in structured_traceback\n",
      "    return FormattedTB.structured_traceback(\n",
      "  File \"/usr/local/lib/python3.10/dist-packages/IPython/core/ultratb.py\", line 1267, in structured_traceback\n",
      "    return VerboseTB.structured_traceback(\n",
      "  File \"/usr/local/lib/python3.10/dist-packages/IPython/core/ultratb.py\", line 1124, in structured_traceback\n",
      "    formatted_exception = self.format_exception_as_a_whole(etype, evalue, etb, number_of_lines_of_context,\n",
      "  File \"/usr/local/lib/python3.10/dist-packages/IPython/core/ultratb.py\", line 1082, in format_exception_as_a_whole\n",
      "    last_unique, recursion_repeat = find_recursion(orig_etype, evalue, records)\n",
      "  File \"/usr/local/lib/python3.10/dist-packages/IPython/core/ultratb.py\", line 382, in find_recursion\n",
      "    return len(records), 0\n",
      "TypeError: object of type 'NoneType' has no len()\n",
      "\n",
      "During handling of the above exception, another exception occurred:\n",
      "\n",
      "Traceback (most recent call last):\n",
      "  File \"/usr/local/lib/python3.10/dist-packages/IPython/core/interactiveshell.py\", line 2099, in showtraceback\n",
      "    stb = value._render_traceback_()\n",
      "AttributeError: 'TypeError' object has no attribute '_render_traceback_'\n",
      "\n",
      "During handling of the above exception, another exception occurred:\n",
      "\n",
      "Traceback (most recent call last):\n",
      "  File \"/usr/local/lib/python3.10/dist-packages/IPython/core/ultratb.py\", line 1101, in get_records\n",
      "    return _fixed_getinnerframes(etb, number_of_lines_of_context, tb_offset)\n",
      "  File \"/usr/local/lib/python3.10/dist-packages/IPython/core/ultratb.py\", line 248, in wrapped\n",
      "    return f(*args, **kwargs)\n",
      "  File \"/usr/local/lib/python3.10/dist-packages/IPython/core/ultratb.py\", line 281, in _fixed_getinnerframes\n",
      "    records = fix_frame_records_filenames(inspect.getinnerframes(etb, context))\n",
      "  File \"/usr/lib/python3.10/inspect.py\", line 1662, in getinnerframes\n",
      "    frameinfo = (tb.tb_frame,) + getframeinfo(tb, context)\n",
      "  File \"/usr/lib/python3.10/inspect.py\", line 1620, in getframeinfo\n",
      "    filename = getsourcefile(frame) or getfile(frame)\n",
      "  File \"/usr/lib/python3.10/inspect.py\", line 829, in getsourcefile\n",
      "    module = getmodule(object, filename)\n",
      "  File \"/usr/lib/python3.10/inspect.py\", line 861, in getmodule\n",
      "    file = getabsfile(object, _filename)\n",
      "  File \"/usr/lib/python3.10/inspect.py\", line 845, in getabsfile\n",
      "    return os.path.normcase(os.path.abspath(_filename))\n",
      "  File \"/usr/lib/python3.10/posixpath.py\", line 384, in abspath\n",
      "    cwd = os.getcwd()\n",
      "OSError: [Errno 107] Transport endpoint is not connected\n",
      "Traceback (most recent call last):\n",
      "  File \"/usr/local/lib/python3.10/dist-packages/IPython/core/interactiveshell.py\", line 3553, in run_code\n",
      "    exec(code_obj, self.user_global_ns, self.user_ns)\n",
      "  File \"<ipython-input-44-0fa1705d6097>\", line 30, in <cell line: 2>\n",
      "    loss = compute_td_loss(batch_size)\n",
      "  File \"<ipython-input-15-4414c1f1bddb>\", line 24, in compute_td_loss\n",
      "    q_value = q_value.squeeze(1)\n",
      "KeyboardInterrupt\n",
      "\n",
      "During handling of the above exception, another exception occurred:\n",
      "\n",
      "Traceback (most recent call last):\n",
      "  File \"/usr/local/lib/python3.10/dist-packages/IPython/core/interactiveshell.py\", line 2099, in showtraceback\n",
      "    stb = value._render_traceback_()\n",
      "AttributeError: 'KeyboardInterrupt' object has no attribute '_render_traceback_'\n",
      "\n",
      "During handling of the above exception, another exception occurred:\n",
      "\n",
      "Traceback (most recent call last):\n",
      "  File \"/usr/local/lib/python3.10/dist-packages/IPython/core/interactiveshell.py\", line 3473, in run_ast_nodes\n",
      "    if (await self.run_code(code, result,  async_=asy)):\n",
      "  File \"/usr/local/lib/python3.10/dist-packages/IPython/core/interactiveshell.py\", line 3575, in run_code\n",
      "    self.showtraceback(running_compiled_code=True)\n",
      "  File \"/usr/local/lib/python3.10/dist-packages/IPython/core/interactiveshell.py\", line 2101, in showtraceback\n",
      "    stb = self.InteractiveTB.structured_traceback(etype,\n",
      "  File \"/usr/local/lib/python3.10/dist-packages/IPython/core/ultratb.py\", line 1367, in structured_traceback\n",
      "    return FormattedTB.structured_traceback(\n",
      "  File \"/usr/local/lib/python3.10/dist-packages/IPython/core/ultratb.py\", line 1267, in structured_traceback\n",
      "    return VerboseTB.structured_traceback(\n",
      "  File \"/usr/local/lib/python3.10/dist-packages/IPython/core/ultratb.py\", line 1124, in structured_traceback\n",
      "    formatted_exception = self.format_exception_as_a_whole(etype, evalue, etb, number_of_lines_of_context,\n",
      "  File \"/usr/local/lib/python3.10/dist-packages/IPython/core/ultratb.py\", line 1082, in format_exception_as_a_whole\n",
      "    last_unique, recursion_repeat = find_recursion(orig_etype, evalue, records)\n",
      "  File \"/usr/local/lib/python3.10/dist-packages/IPython/core/ultratb.py\", line 382, in find_recursion\n",
      "    return len(records), 0\n",
      "TypeError: object of type 'NoneType' has no len()\n",
      "\n",
      "During handling of the above exception, another exception occurred:\n",
      "\n",
      "Traceback (most recent call last):\n",
      "  File \"/usr/local/lib/python3.10/dist-packages/IPython/core/interactiveshell.py\", line 2099, in showtraceback\n",
      "    stb = value._render_traceback_()\n",
      "AttributeError: 'TypeError' object has no attribute '_render_traceback_'\n",
      "\n",
      "During handling of the above exception, another exception occurred:\n",
      "\n",
      "Traceback (most recent call last):\n",
      "  File \"/usr/local/lib/python3.10/dist-packages/IPython/core/interactiveshell.py\", line 3030, in _run_cell\n",
      "    return runner(coro)\n",
      "  File \"/usr/local/lib/python3.10/dist-packages/IPython/core/async_helpers.py\", line 78, in _pseudo_sync_runner\n",
      "    coro.send(None)\n",
      "  File \"/usr/local/lib/python3.10/dist-packages/IPython/core/interactiveshell.py\", line 3257, in run_cell_async\n",
      "    has_raised = await self.run_ast_nodes(code_ast.body, cell_name,\n",
      "  File \"/usr/local/lib/python3.10/dist-packages/IPython/core/interactiveshell.py\", line 3492, in run_ast_nodes\n",
      "    self.showtraceback()\n",
      "  File \"/usr/local/lib/python3.10/dist-packages/IPython/core/interactiveshell.py\", line 2101, in showtraceback\n",
      "    stb = self.InteractiveTB.structured_traceback(etype,\n",
      "  File \"/usr/local/lib/python3.10/dist-packages/IPython/core/ultratb.py\", line 1367, in structured_traceback\n",
      "    return FormattedTB.structured_traceback(\n",
      "  File \"/usr/local/lib/python3.10/dist-packages/IPython/core/ultratb.py\", line 1267, in structured_traceback\n",
      "    return VerboseTB.structured_traceback(\n",
      "  File \"/usr/local/lib/python3.10/dist-packages/IPython/core/ultratb.py\", line 1142, in structured_traceback\n",
      "    formatted_exceptions += self.format_exception_as_a_whole(etype, evalue, etb, lines_of_context,\n",
      "  File \"/usr/local/lib/python3.10/dist-packages/IPython/core/ultratb.py\", line 1082, in format_exception_as_a_whole\n",
      "    last_unique, recursion_repeat = find_recursion(orig_etype, evalue, records)\n",
      "  File \"/usr/local/lib/python3.10/dist-packages/IPython/core/ultratb.py\", line 382, in find_recursion\n",
      "    return len(records), 0\n",
      "TypeError: object of type 'NoneType' has no len()\n",
      "\n",
      "During handling of the above exception, another exception occurred:\n",
      "\n",
      "Traceback (most recent call last):\n",
      "  File \"/usr/local/lib/python3.10/dist-packages/IPython/core/interactiveshell.py\", line 2099, in showtraceback\n",
      "    stb = value._render_traceback_()\n",
      "AttributeError: 'TypeError' object has no attribute '_render_traceback_'\n",
      "\n",
      "During handling of the above exception, another exception occurred:\n",
      "\n",
      "Traceback (most recent call last):\n",
      "  File \"/usr/local/lib/python3.10/dist-packages/IPython/core/ultratb.py\", line 1101, in get_records\n",
      "    return _fixed_getinnerframes(etb, number_of_lines_of_context, tb_offset)\n",
      "  File \"/usr/local/lib/python3.10/dist-packages/IPython/core/ultratb.py\", line 248, in wrapped\n",
      "    return f(*args, **kwargs)\n",
      "  File \"/usr/local/lib/python3.10/dist-packages/IPython/core/ultratb.py\", line 281, in _fixed_getinnerframes\n",
      "    records = fix_frame_records_filenames(inspect.getinnerframes(etb, context))\n",
      "  File \"/usr/lib/python3.10/inspect.py\", line 1662, in getinnerframes\n",
      "    frameinfo = (tb.tb_frame,) + getframeinfo(tb, context)\n",
      "  File \"/usr/lib/python3.10/inspect.py\", line 1620, in getframeinfo\n",
      "    filename = getsourcefile(frame) or getfile(frame)\n",
      "  File \"/usr/lib/python3.10/inspect.py\", line 829, in getsourcefile\n",
      "    module = getmodule(object, filename)\n",
      "  File \"/usr/lib/python3.10/inspect.py\", line 861, in getmodule\n",
      "    file = getabsfile(object, _filename)\n",
      "  File \"/usr/lib/python3.10/inspect.py\", line 845, in getabsfile\n",
      "    return os.path.normcase(os.path.abspath(_filename))\n",
      "  File \"/usr/lib/python3.10/posixpath.py\", line 384, in abspath\n",
      "    cwd = os.getcwd()\n",
      "OSError: [Errno 107] Transport endpoint is not connected\n"
     ]
    }
   ],
   "source": [
    "state = env.board\n",
    "for frame_idx in range(1,num_frames+1):\n",
    "    epsilon = epsilon_by_frame(frame_idx) #epsilon update\n",
    "    \n",
    "    local_network.eval()\n",
    "    with torch.no_grad():\n",
    "        convert_direction = Group.representative(state)\n",
    "        converted_state = Group.rotate(state,convert_direction)\n",
    "        converted_state = Group.process_observation(converted_state)\n",
    "        converted_action = local_network.act(converted_state,epsilon)\n",
    "        action = Group.action_convert(convert_direction,converted_action)\n",
    "    \n",
    "    next_state, reward, done = env.step(int(action))\n",
    "    \n",
    "    convert_direction = Group.representative(next_state)\n",
    "    converted_next_state = Group.rotate(next_state,convert_direction)\n",
    "    converted_next_state = Group.process_observation(converted_next_state)\n",
    "\n",
    "    replay_buffer.push(converted_state,converted_action,reward,converted_next_state,done)\n",
    "    \n",
    "    state = next_state\n",
    "    episode_reward += reward\n",
    "    if done:\n",
    "        env.reset()\n",
    "        state = env.board\n",
    "        all_rewards.append(episode_reward)\n",
    "        episode_reward = 0\n",
    "    \n",
    "    if len(replay_buffer.buffer) > batch_size:\n",
    "        loss = compute_td_loss(batch_size)\n",
    "        #print(loss)\n",
    "        losses.append(loss.item())\n",
    "\n",
    "    \n",
    "    if frame_idx %1000 == 0:\n",
    "        mean_rewards.append(np.mean(all_rewards))\n",
    "        plot(frame_idx, losses,mean_rewards)\n",
    "        if(maximum_reward<mean_rewards[-1]):\n",
    "          maximum_reward = mean_rewards[-1]\n",
    "          torch.save(local_network.state_dict(),best_model_params_path)\n",
    "    \n",
    "    if frame_idx %10000 == 0:\n",
    "        target_network.load_state_dict(local_network.state_dict())"
   ]
  },
  {
   "cell_type": "code",
   "execution_count": null,
   "id": "874140dd",
   "metadata": {
    "id": "-acN2ZKcRUix"
   },
   "outputs": [],
   "source": [
    "#epsilon 10000 1 10000 20000(200000회, 최소 0.1) 20000(200000회, 최소 0.1) 10(0.05) 0.5(0.05) 0.5(0.01)\n",
    "#loss가 뛰는 순간 reward가 감소한다. - 새로운걸 학습한다는건가?"
   ]
  },
  {
   "cell_type": "code",
   "execution_count": 18,
   "id": "63340f01",
   "metadata": {
    "executionInfo": {
     "elapsed": 27,
     "status": "ok",
     "timestamp": 1686312961507,
     "user": {
      "displayName": "이주홍",
      "userId": "01543616255682921881"
     },
     "user_tz": -540
    },
    "id": "a8e2b91d"
   },
   "outputs": [],
   "source": [
    "qvalue = torch.tensor([1,2,3,4],dtype = torch.float32)"
   ]
  },
  {
   "cell_type": "code",
   "execution_count": 19,
   "id": "86150eb8",
   "metadata": {
    "colab": {
     "base_uri": "https://localhost:8080/"
    },
    "executionInfo": {
     "elapsed": 7,
     "status": "ok",
     "timestamp": 1686312961507,
     "user": {
      "displayName": "이주홍",
      "userId": "01543616255682921881"
     },
     "user_tz": -540
    },
    "id": "b3b11de5",
    "outputId": "7c120b2e-3c80-44a2-b7d2-66d4c5a3130d"
   },
   "outputs": [
    {
     "data": {
      "text/plain": [
       "tensor(3)"
      ]
     },
     "execution_count": 19,
     "metadata": {},
     "output_type": "execute_result"
    }
   ],
   "source": [
    "qvalue.max(0)[1]"
   ]
  },
  {
   "cell_type": "code",
   "execution_count": 19,
   "id": "8c6d9df9",
   "metadata": {
    "executionInfo": {
     "elapsed": 6,
     "status": "ok",
     "timestamp": 1686312961507,
     "user": {
      "displayName": "이주홍",
      "userId": "01543616255682921881"
     },
     "user_tz": -540
    },
    "id": "187b8a33"
   },
   "outputs": [],
   "source": [
    "maximum_reward = 0\n",
    "best_model_params_path = \"/content/drive/MyDrive/2048 Final\"\n",
    "if(maximum_reward<mean_rewards[-1]):\n",
    "  maximum_reward = mean_rewards[-1]\n",
    "  torch.save(local_network.state_dict(),best_model_params_path)"
   ]
  },
  {
   "cell_type": "markdown",
   "id": "d9f03ddc",
   "metadata": {
    "id": "lOqQkWl8HUKM"
   },
   "source": [
    "1800 달성 모델"
   ]
  },
  {
   "cell_type": "code",
   "execution_count": null,
   "id": "431c007b",
   "metadata": {
    "id": "siUOGEF1HX4f"
   },
   "outputs": [],
   "source": [
    "class DQN(nn.Module):\n",
    "    def __init__(self,num_inputs,num_actions):\n",
    "        super(DQN, self).__init__() #nn.Module class의 init\n",
    "        \n",
    "        #함수 pointer 같은 것\n",
    "        self.layer1 = nn.Sequential(\n",
    "            nn.Conv2d(1,16,kernel_size=3,padding=1),\n",
    "            nn.GELU(),\n",
    "            nn.BatchNorm2d(16),\n",
    "            nn.Conv2d(16,32,kernel_size=3,padding=1),\n",
    "            nn.GELU(),\n",
    "            nn.BatchNorm2d(32),\n",
    "          )\n",
    "        self.layer_fc = nn.Sequential(\n",
    "            nn.Linear(1024,512),\n",
    "            nn.GELU(),\n",
    "            nn.BatchNorm1d(512),\n",
    "            nn.Linear(512,256),\n",
    "            nn.GELU(),\n",
    "            nn.BatchNorm1d(256),\n",
    "            nn.Linear(256,128),\n",
    "            nn.GELU(),\n",
    "            nn.BatchNorm1d(128),\n",
    "            nn.Linear(128,50),\n",
    "            nn.GELU(),\n",
    "            nn.BatchNorm1d(50),\n",
    "            nn.Linear(50,num_actions),\n",
    "        )\n",
    "        self.layer2 = nn.Sequential(\n",
    "            nn.Conv2d(32,48,kernel_size=3,padding=1),\n",
    "            nn.GELU(),\n",
    "            nn.BatchNorm2d(48),\n",
    "            nn.Conv2d(48,64,kernel_size=3,padding=1),\n",
    "            nn.GELU(),\n",
    "            nn.BatchNorm2d(64),\n",
    "          )\n",
    "        \n",
    "    def forward(self, x):\n",
    "        x = self.layer1(x)+x\n",
    "        x = self.layer2(x)\n",
    "        x = x.view(-1,16*64)\n",
    "        return self.layer_fc(x)\n",
    "\n",
    "    def act(self,state,epsilon):\n",
    "        #epsilon-greedy\n",
    "        if np.random.rand(1)[0] > epsilon:\n",
    "            state = torch.tensor(state,dtype=torch.float32)#0번 자리에 차원 하나 추가\n",
    "            state = state.to(device)\n",
    "            #state = torch.flatten(state)\n",
    "            state = state.unsqueeze(0)\n",
    "            state = state.unsqueeze(0)\n",
    "            q_value = self.forward(state)\n",
    "            #1X2로부터 최대를 구하기 위해 row의 최대 .max(1) max인 것의[1]은 idx, 요거는 하나이므로 .data[0]\n",
    "            action = int(q_value.max(1)[1]) #q_value의 second dim에서 Q_value와 index를 묶은 tuple을\n",
    "\n",
    "        else:\n",
    "            action = random.randrange(4)\n",
    "        return action"
   ]
  },
  {
   "cell_type": "code",
   "execution_count": null,
   "id": "81dce2d5",
   "metadata": {
    "id": "yHAOOe3HHZG3"
   },
   "outputs": [],
   "source": []
  }
 ],
 "metadata": {
  "accelerator": "GPU",
  "colab": {
   "machine_shape": "hm",
   "name": "",
   "version": ""
  },
  "kernelspec": {
   "display_name": "Python 3 (ipykernel)",
   "language": "python",
   "name": "python3"
  },
  "language_info": {
   "codemirror_mode": {
    "name": "ipython",
    "version": 3
   },
   "file_extension": ".py",
   "mimetype": "text/x-python",
   "name": "python",
   "nbconvert_exporter": "python",
   "pygments_lexer": "ipython3",
   "version": "3.9.12"
  },
  "vscode": {
   "interpreter": {
    "hash": "b0fa6594d8f4cbf19f97940f81e996739fb7646882a419484c72d19e05852a7e"
   }
  }
 },
 "nbformat": 4,
 "nbformat_minor": 5
}
