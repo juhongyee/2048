{
  "cells": [
    {
      "cell_type": "code",
      "execution_count": 1,
      "id": "a0a2f993",
      "metadata": {
        "colab": {
          "base_uri": "https://localhost:8080/"
        },
        "id": "a0a2f993",
        "outputId": "ec63be2e-6c58-4db1-c814-4d99cb3a0c07"
      },
      "outputs": [
        {
          "output_type": "stream",
          "name": "stdout",
          "text": [
            "Mounted at /content/drive\n"
          ]
        }
      ],
      "source": [
        "from google.colab import drive\n",
        "drive.mount('/content/drive')"
      ]
    },
    {
      "cell_type": "code",
      "execution_count": 2,
      "id": "0756a3ff",
      "metadata": {
        "id": "0756a3ff"
      },
      "outputs": [],
      "source": [
        "import os"
      ]
    },
    {
      "cell_type": "code",
      "execution_count": 4,
      "id": "6cb2f8ee",
      "metadata": {
        "colab": {
          "base_uri": "https://localhost:8080/"
        },
        "id": "6cb2f8ee",
        "outputId": "7907e08d-6602-4c1e-a4c5-a56c3e92f90e"
      },
      "outputs": [
        {
          "output_type": "stream",
          "name": "stdout",
          "text": [
            "/content/drive/MyDrive/2048_progress\n"
          ]
        }
      ],
      "source": [
        "cd /content/drive/MyDrive/2048_progress"
      ]
    },
    {
      "cell_type": "code",
      "execution_count": 5,
      "id": "66a54d2b",
      "metadata": {
        "id": "66a54d2b"
      },
      "outputs": [],
      "source": [
        "import math, random\n",
        "from collections import deque\n",
        "\n",
        "import game_2048\n",
        "import Group\n",
        "\n",
        "import gym\n",
        "import numpy as np\n",
        "\n",
        "import torch\n",
        "import torch.nn as nn\n",
        "import torch.optim as optim\n",
        "import torch.autograd as autograd\n",
        "import torch.nn.functional as F"
      ]
    },
    {
      "cell_type": "code",
      "execution_count": 6,
      "id": "0942aa88",
      "metadata": {
        "id": "0942aa88",
        "colab": {
          "base_uri": "https://localhost:8080/"
        },
        "outputId": "b3cd0ca7-a3ce-44e5-c880-e839b2b90497"
      },
      "outputs": [
        {
          "output_type": "stream",
          "name": "stderr",
          "text": [
            "/usr/local/lib/python3.10/dist-packages/ipykernel/ipkernel.py:283: DeprecationWarning: `should_run_async` will not call `transform_cell` automatically in the future. Please pass the result to `transformed_cell` argument and any exception that happen during thetransform in `preprocessing_exc_tuple` in IPython 7.17 and above.\n",
            "  and should_run_async(code)\n"
          ]
        }
      ],
      "source": [
        "from IPython.display import clear_output\n",
        "import matplotlib.pyplot as plt\n",
        "%matplotlib inline"
      ]
    },
    {
      "cell_type": "code",
      "execution_count": 7,
      "id": "8e64868a",
      "metadata": {
        "id": "8e64868a"
      },
      "outputs": [],
      "source": [
        "#m1에서 돌릴 때 GPU 사용을 위한 code...I'll do later.\n",
        "#mps_device = torch.device(\"mps\")"
      ]
    },
    {
      "cell_type": "code",
      "execution_count": 8,
      "id": "c433badb",
      "metadata": {
        "id": "c433badb"
      },
      "outputs": [],
      "source": [
        "#Hyper Parameters\n",
        "batch_size = 256\n",
        "gamma = 0.99\n",
        "copy_rate = 10"
      ]
    },
    {
      "cell_type": "code",
      "execution_count": 9,
      "id": "9e7bdd28",
      "metadata": {
        "id": "9e7bdd28"
      },
      "outputs": [],
      "source": [
        "device = torch.device(\"cuda\" if torch.cuda.is_available() else \"cpu\")"
      ]
    },
    {
      "cell_type": "code",
      "execution_count": 10,
      "id": "c52d8940",
      "metadata": {
        "id": "c52d8940"
      },
      "outputs": [],
      "source": [
        "class ReplayBuffer(object):\n",
        "    def __init__(self, capacity):\n",
        "        self.buffer = deque(maxlen = capacity)\n",
        "    \n",
        "    def push(self, state, action, reward, next_state, done):\n",
        "        state = np.expand_dims(state,0)\n",
        "        next_state = np.expand_dims(next_state,0)\n",
        "        \n",
        "        self.buffer.append((state,action,reward,next_state,done)) #deque에 numpy arr이 들어간다는 사실\n",
        "        \n",
        "    def sample(self,batch_size):\n",
        "        state, action, reward, next_state, done = zip(*random.sample(self.buffer, batch_size))\n",
        "        \n",
        "        return np.concatenate(state), action, reward, np.concatenate(next_state), done\n",
        "    \n",
        "    def __len__(self):\n",
        "        return len(self.buffer)"
      ]
    },
    {
      "cell_type": "code",
      "execution_count": 11,
      "id": "59893baf",
      "metadata": {
        "id": "59893baf"
      },
      "outputs": [],
      "source": [
        "env = game_2048.Game2048()"
      ]
    },
    {
      "cell_type": "code",
      "execution_count": 12,
      "id": "46ae5a57",
      "metadata": {
        "id": "46ae5a57"
      },
      "outputs": [],
      "source": [
        "epsilon_start = 1.0\n",
        "epsilon_final = 0.001\n",
        "epsilon_decay = 10000\n",
        "\n",
        "#단순 1/500이 아니라 exp(-x/500)\n",
        "epsilon_by_frame = lambda frame_idx : epsilon_final + (epsilon_start - epsilon_final)*math.exp(-1.*frame_idx/epsilon_decay)\n"
      ]
    },
    {
      "cell_type": "code",
      "execution_count": 13,
      "id": "b289dc3d",
      "metadata": {
        "colab": {
          "base_uri": "https://localhost:8080/",
          "height": 448
        },
        "id": "b289dc3d",
        "outputId": "972601e7-f28c-4700-b442-7ba4eb0b6259"
      },
      "outputs": [
        {
          "output_type": "execute_result",
          "data": {
            "text/plain": [
              "[<matplotlib.lines.Line2D at 0x7fb317967e20>]"
            ]
          },
          "metadata": {},
          "execution_count": 13
        },
        {
          "output_type": "display_data",
          "data": {
            "text/plain": [
              "<Figure size 640x480 with 1 Axes>"
            ],
            "image/png": "[encoded data removed]"
          },
          "metadata": {}
        }
      ],
      "source": [
        "plt.plot([epsilon_by_frame(i) for i in range(100000)])"
      ]
    },
    {
      "cell_type": "markdown",
      "id": "b1d185f9",
      "metadata": {
        "id": "b1d185f9"
      },
      "source": [
        "# Deep Q Network"
      ]
    },
    {
      "cell_type": "code",
      "execution_count": 26,
      "id": "c5b69bcb",
      "metadata": {
        "id": "c5b69bcb"
      },
      "outputs": [],
      "source": [
        "class DQN(nn.Module):\n",
        "    def __init__(self,num_inputs,num_actions):\n",
        "        super(DQN, self).__init__() #nn.Module class의 init\n",
        "        \n",
        "        #함수 pointer 같은 것\n",
        "        self.layer1 = nn.Sequential(\n",
        "            nn.Conv2d(16,256,kernel_size=2,padding=0),\n",
        "            nn.GELU(),\n",
        "            nn.Conv2d(256,512,kernel_size=2,padding=0),\n",
        "            nn.GELU(),\n",
        "          )\n",
        "    \n",
        "        self.layer2 = nn.Sequential(\n",
        "            nn.Conv2d(16,256,kernel_size=3),\n",
        "            nn.GELU(),\n",
        "          )\n",
        "        self.layer3 = nn.Sequential(\n",
        "            nn.Conv2d(16,256,kernel_size=4,padding = 0), #Output : Batchsize*128*1x1\n",
        "            nn.GELU(),\n",
        "          )\n",
        "        size = 2*2*512+2*2*256+1*1*256\n",
        "        self.layer_fc = nn.Sequential(\n",
        "            nn.Linear(size,1024),\n",
        "            nn.GELU(),\n",
        "            nn.Linear(1024,512),\n",
        "            nn.GELU(),\n",
        "            nn.Linear(512,128),\n",
        "            nn.GELU(),\n",
        "            nn.Linear(128,64),\n",
        "            nn.GELU(),\n",
        "            nn.Linear(64,num_actions)\n",
        "        )\n",
        "    def forward(self, x):\n",
        "        x1 = self.layer1(x)\n",
        "        x2 = self.layer2(x)\n",
        "        x3 = self.layer3(x)\n",
        "        \n",
        "        x1 = x1.view(-1,x1.shape[1]*x1.shape[2]*x1.shape[3])\n",
        "        x2 = x2.view(-1,x2.shape[1]*x2.shape[2]*x2.shape[3])\n",
        "        x3 = x3.view(-1,x3.shape[1]*x3.shape[2]*x3.shape[3])\n",
        "        x = torch.cat((x1,x2,x3),dim=1)\n",
        "        \n",
        "        return self.layer_fc(x)\n",
        "\n",
        "    def act(self,state,epsilon):\n",
        "        #epsilon-greedy\n",
        "        if np.random.rand(1)[0] > epsilon:\n",
        "            state = torch.tensor(state,dtype=torch.float32)\n",
        "            state = state.to(device)\n",
        "            \n",
        "            state = state.unsqueeze(0)\n",
        "            q_value = self.forward(state)\n",
        "            #1X2로부터 최대를 구하기 위해 row의 최대 .max(1) max인 것의[1]은 idx, 요거는 하나이므로 .data[0]\n",
        "            action = int(q_value.max(1)[1]) #q_value의 second dim에서 Q_value와 index를 묶은 tuple을\n",
        "\n",
        "        else:\n",
        "            action = random.randrange(4)\n",
        "        return action"
      ]
    },
    {
      "cell_type": "code",
      "execution_count": 27,
      "id": "b45e26ca",
      "metadata": {
        "id": "b45e26ca"
      },
      "outputs": [],
      "source": [
        "local_network = DQN(16,4)\n",
        "target_network = DQN(16,4)\n",
        "\n",
        "local_network = local_network.to(device)\n",
        "target_network = target_network.to(device)\n",
        "\n",
        "optimizer = optim.Adam(local_network.parameters())\n",
        "\n",
        "replay_buffer = ReplayBuffer(1024)"
      ]
    },
    {
      "cell_type": "code",
      "execution_count": 28,
      "id": "f7452e53",
      "metadata": {
        "colab": {
          "base_uri": "https://localhost:8080/"
        },
        "id": "f7452e53",
        "outputId": "08e84d37-92fb-4747-bdb7-d81c60298c72"
      },
      "outputs": [
        {
          "output_type": "stream",
          "name": "stdout",
          "text": [
            "----------------------------------------------------------------\n",
            "        Layer (type)               Output Shape         Param #\n",
            "================================================================\n",
            "            Conv2d-1            [-1, 256, 3, 3]          16,640\n",
            "              GELU-2            [-1, 256, 3, 3]               0\n",
            "            Conv2d-3            [-1, 512, 2, 2]         524,800\n",
            "              GELU-4            [-1, 512, 2, 2]               0\n",
            "            Conv2d-5            [-1, 256, 2, 2]          37,120\n",
            "              GELU-6            [-1, 256, 2, 2]               0\n",
            "            Conv2d-7            [-1, 256, 1, 1]          65,792\n",
            "              GELU-8            [-1, 256, 1, 1]               0\n",
            "            Linear-9                 [-1, 1024]       3,408,896\n",
            "             GELU-10                 [-1, 1024]               0\n",
            "           Linear-11                  [-1, 512]         524,800\n",
            "             GELU-12                  [-1, 512]               0\n",
            "           Linear-13                  [-1, 128]          65,664\n",
            "             GELU-14                  [-1, 128]               0\n",
            "           Linear-15                   [-1, 64]           8,256\n",
            "             GELU-16                   [-1, 64]               0\n",
            "           Linear-17                    [-1, 4]             260\n",
            "================================================================\n",
            "Total params: 4,652,228\n",
            "Trainable params: 4,652,228\n",
            "Non-trainable params: 0\n",
            "----------------------------------------------------------------\n",
            "Input size (MB): 0.00\n",
            "Forward/backward pass size (MB): 0.11\n",
            "Params size (MB): 17.75\n",
            "Estimated Total Size (MB): 17.86\n",
            "----------------------------------------------------------------\n"
          ]
        }
      ],
      "source": [
        "from torchsummary import summary\n",
        "summary(DQN(16,4).to(device), (16, 4, 4))"
      ]
    },
    {
      "cell_type": "markdown",
      "id": "49448cf1",
      "metadata": {
        "id": "49448cf1"
      },
      "source": [
        "# Computing Temporal Difference Loss"
      ]
    },
    {
      "cell_type": "code",
      "execution_count": 29,
      "id": "9903e520",
      "metadata": {
        "id": "9903e520"
      },
      "outputs": [],
      "source": [
        "def compute_td_loss(batch_size):\n",
        "    local_network.train()\n",
        "\n",
        "    state, action, reward, next_state, done = replay_buffer.sample(batch_size)\n",
        "    \n",
        "    #State\n",
        "    state = torch.tensor(state,dtype=torch.float32).to(device)\n",
        "    state = state.view([batch_size,-1,4,4])\n",
        "    next_state = torch.tensor(next_state,dtype=torch.float32).to(device)\n",
        "    next_state = state.view([batch_size,-1,4,4])\n",
        "    \n",
        "    #Action\n",
        "    action = torch.tensor(action,dtype=torch.int64).unsqueeze(1)\n",
        "    action = action\n",
        "    action = action.to(device)\n",
        "    \n",
        "    #Reward\n",
        "    reward = torch.tensor(reward,dtype=torch.float32).to(device)\n",
        "    done = torch.tensor(done,dtype=torch.float32).to(device)\n",
        "    \n",
        "    #q_values\n",
        "    q_values = local_network(state)\n",
        "    next_q_values = target_network(next_state)\n",
        "    q_value = torch.gather(q_values,1,action)\n",
        "    next_q_value = next_q_values.max(1)[0] #제일 큰 값으로 선택\n",
        "    \n",
        "    #Calculation\n",
        "    expected_q_value = reward + gamma *next_q_value*(1-done)\n",
        "    q_value = q_value.squeeze(1)\n",
        "    loss_func = nn.MSELoss()\n",
        "    loss = loss_func(expected_q_value,q_value)\n",
        "    \n",
        "    optimizer.zero_grad()\n",
        "    loss.backward()\n",
        "    optimizer.step()\n",
        "    \n",
        "    return loss\n",
        "    "
      ]
    },
    {
      "cell_type": "code",
      "execution_count": 30,
      "id": "d99793f8",
      "metadata": {
        "id": "d99793f8"
      },
      "outputs": [],
      "source": [
        "def plot(frame_idx,losses,rewards):\n",
        "    clear_output(True)\n",
        "    plt.figure(figsize=(20,5))\n",
        "    plt.subplot(131)\n",
        "    plt.title('episodes: %s. reward: %s' % (frame_idx,rewards[-1]))\n",
        "    plt.plot(rewards)\n",
        "    plt.subplot(132)\n",
        "    plt.title('loss')\n",
        "    plt.plot(losses)\n",
        "    plt.show()"
      ]
    },
    {
      "cell_type": "markdown",
      "id": "e2c811dc",
      "metadata": {
        "id": "e2c811dc"
      },
      "source": [
        "# Training"
      ]
    },
    {
      "cell_type": "code",
      "execution_count": 31,
      "id": "a9a54744",
      "metadata": {
        "id": "a9a54744"
      },
      "outputs": [],
      "source": [
        "losses = []\n",
        "all_rewards = deque(maxlen = 10)\n",
        "mean_rewards = [0]\n",
        "episode_reward = 0\n",
        "count = 0\n",
        "env.reset()\n",
        "maximum_reward = 0\n",
        "#best_model_params_path = \"/content/drive/MyDrive/2048 Final/DDQN.pt\"\n",
        "best_model_params_path = \"./DDQN2.pt\"\n",
        "episodes = 1000\n",
        "frame_idx = 0\n",
        "episode = 0"
      ]
    },
    {
      "cell_type": "code",
      "execution_count": null,
      "id": "fcda8b9c",
      "metadata": {
        "id": "fcda8b9c",
        "scrolled": true
      },
      "outputs": [],
      "source": [
        "state = env.board\n",
        "while(episode<episodes):\n",
        "    epsilon = epsilon_by_frame(frame_idx) #epsilon update\n",
        "    \n",
        "    local_network.eval()\n",
        "    with torch.no_grad():\n",
        "        #Grid processing\n",
        "        convert_direction = Group.representative(state)\n",
        "        converted_state = Group.rotate(state,convert_direction)\n",
        "        converted_state = Group.OneHotEncoding(converted_state)\n",
        "        \n",
        "        converted_action = local_network.act(converted_state,epsilon)\n",
        "        action = Group.action_convert(convert_direction,converted_action)\n",
        "    \n",
        "    next_state, reward, done = env.step(int(action))\n",
        "    \n",
        "    convert_direction = Group.representative(next_state)\n",
        "    converted_next_state = Group.rotate(next_state,convert_direction)\n",
        "    converted_next_state = Group.OneHotEncoding(converted_next_state)\n",
        "\n",
        "    replay_buffer.push(converted_state,converted_action,reward,converted_next_state,done)\n",
        "    \n",
        "    state = next_state\n",
        "    episode_reward += reward\n",
        "    \n",
        "    if done:\n",
        "        env.reset()\n",
        "        state = env.board\n",
        "        all_rewards.append(episode_reward)\n",
        "        episode_reward = 0\n",
        "        episode += 1\n",
        "        \n",
        "        if episode % 10 == 0:\n",
        "            mean_rewards.append(np.mean(all_rewards))\n",
        "            plot(episode, losses,mean_rewards)\n",
        "        \n",
        "        if(maximum_reward<mean_rewards[-1]):\n",
        "            maximum_reward = mean_rewards[-1]\n",
        "            torch.save(local_network.state_dict(),best_model_params_path)\n",
        "    \n",
        "    if frame_idx % copy_rate== 0:\n",
        "        target_network.load_state_dict(local_network.state_dict())\n",
        "    \n",
        "    if len(replay_buffer.buffer) > batch_size:\n",
        "        loss = compute_td_loss(batch_size)\n",
        "        #print(loss)\n",
        "        losses.append(loss.item())\n",
        "    \n",
        "    frame_idx += 1"
      ]
    },
    {
      "cell_type": "code",
      "execution_count": null,
      "id": "874140dd",
      "metadata": {
        "id": "874140dd"
      },
      "outputs": [],
      "source": [
        "#epsilon 10000 1 10000 20000(200000회, 최소 0.1) 20000(200000회, 최소 0.1) 10(0.05) 0.5(0.05) 0.5(0.01)\n",
        "#loss가 뛰는 순간 reward가 감소한다. - 새로운걸 학습한다는건가?"
      ]
    },
    {
      "cell_type": "code",
      "execution_count": null,
      "id": "63340f01",
      "metadata": {
        "id": "63340f01"
      },
      "outputs": [],
      "source": [
        "qvalue = torch.tensor([1,2,3,4],dtype = torch.float32)"
      ]
    },
    {
      "cell_type": "code",
      "execution_count": null,
      "id": "86150eb8",
      "metadata": {
        "id": "86150eb8"
      },
      "outputs": [],
      "source": [
        "qvalue.max(0)[1]"
      ]
    },
    {
      "cell_type": "code",
      "execution_count": null,
      "id": "8c6d9df9",
      "metadata": {
        "id": "8c6d9df9"
      },
      "outputs": [],
      "source": [
        "maximum_reward = 0\n",
        "best_model_params_path = \"/content/drive/MyDrive/2048 Final\"\n",
        "if(maximum_reward<mean_rewards[-1]):\n",
        "  maximum_reward = mean_rewards[-1]\n",
        "  torch.save(local_network.state_dict(),best_model_params_path)"
      ]
    },
    {
      "cell_type": "markdown",
      "id": "d9f03ddc",
      "metadata": {
        "id": "d9f03ddc"
      },
      "source": [
        "1800 달성 모델"
      ]
    },
    {
      "cell_type": "code",
      "execution_count": null,
      "id": "431c007b",
      "metadata": {
        "id": "431c007b"
      },
      "outputs": [],
      "source": [
        "class DQN(nn.Module):\n",
        "    def __init__(self,num_inputs,num_actions):\n",
        "        super(DQN, self).__init__() #nn.Module class의 init\n",
        "        \n",
        "        #함수 pointer 같은 것\n",
        "        self.layer1 = nn.Sequential(\n",
        "            nn.Conv2d(1,16,kernel_size=3,padding=1),\n",
        "            nn.GELU(),\n",
        "            nn.BatchNorm2d(16),\n",
        "            nn.Conv2d(16,32,kernel_size=3,padding=1),\n",
        "            nn.GELU(),\n",
        "            nn.BatchNorm2d(32),\n",
        "          )\n",
        "        self.layer_fc = nn.Sequential(\n",
        "            nn.Linear(1024,512),\n",
        "            nn.GELU(),\n",
        "            nn.BatchNorm1d(512),\n",
        "            nn.Linear(512,256),\n",
        "            nn.GELU(),\n",
        "            nn.BatchNorm1d(256),\n",
        "            nn.Linear(256,128),\n",
        "            nn.GELU(),\n",
        "            nn.BatchNorm1d(128),\n",
        "            nn.Linear(128,50),\n",
        "            nn.GELU(),\n",
        "            nn.BatchNorm1d(50),\n",
        "            nn.Linear(50,num_actions),\n",
        "        )\n",
        "        self.layer2 = nn.Sequential(\n",
        "            nn.Conv2d(32,48,kernel_size=3,padding=1),\n",
        "            nn.GELU(),\n",
        "            nn.BatchNorm2d(48),\n",
        "            nn.Conv2d(48,64,kernel_size=3,padding=1),\n",
        "            nn.GELU(),\n",
        "            nn.BatchNorm2d(64),\n",
        "          )\n",
        "        \n",
        "    def forward(self, x):\n",
        "        x = self.layer1(x)+x\n",
        "        x = self.layer2(x)\n",
        "        x = x.view(-1,16*64)\n",
        "        return self.layer_fc(x)\n",
        "\n",
        "    def act(self,state,epsilon):\n",
        "        #epsilon-greedy\n",
        "        if np.random.rand(1)[0] > epsilon:\n",
        "            state = torch.tensor(state,dtype=torch.float32)#0번 자리에 차원 하나 추가\n",
        "            state = state.to(device)\n",
        "            #state = torch.flatten(state)\n",
        "            state = state.unsqueeze(0)\n",
        "            state = state.unsqueeze(0)\n",
        "            q_value = self.forward(state)\n",
        "            #1X2로부터 최대를 구하기 위해 row의 최대 .max(1) max인 것의[1]은 idx, 요거는 하나이므로 .data[0]\n",
        "            action = int(q_value.max(1)[1]) #q_value의 second dim에서 Q_value와 index를 묶은 tuple을\n",
        "\n",
        "        else:\n",
        "            action = random.randrange(4)\n",
        "        return action"
      ]
    },
    {
      "cell_type": "code",
      "execution_count": null,
      "id": "81dce2d5",
      "metadata": {
        "id": "81dce2d5"
      },
      "outputs": [],
      "source": []
    }
  ],
  "metadata": {
    "accelerator": "GPU",
    "colab": {
      "machine_shape": "hm",
      "provenance": [],
      "gpuType": "A100"
    },
    "kernelspec": {
      "display_name": "Python 3",
      "name": "python3"
    },
    "language_info": {
      "codemirror_mode": {
        "name": "ipython",
        "version": 3
      },
      "file_extension": ".py",
      "mimetype": "text/x-python",
      "name": "python",
      "nbconvert_exporter": "python",
      "pygments_lexer": "ipython3",
      "version": "3.9.12"
    },
    "vscode": {
      "interpreter": {
        "hash": "b0fa6594d8f4cbf19f97940f81e996739fb7646882a419484c72d19e05852a7e"
      }
    }
  },
  "nbformat": 4,
  "nbformat_minor": 5
}