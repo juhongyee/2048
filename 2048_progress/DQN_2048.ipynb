{
  "cells": [
    {
      "cell_type": "code",
      "execution_count": 1,
      "id": "S_YcPSQbIIqy",
      "metadata": {
        "colab": {
          "base_uri": "https://localhost:8080/"
        },
        "id": "S_YcPSQbIIqy",
        "outputId": "83ea5d63-94c8-4239-8057-cb0beb14cead"
      },
      "outputs": [
        {
          "output_type": "stream",
          "name": "stdout",
          "text": [
            "Mounted at /content/drive\n"
          ]
        }
      ],
      "source": [
        "from google.colab import drive\n",
        "drive.mount('/content/drive')"
      ]
    },
    {
      "cell_type": "code",
      "execution_count": 2,
      "id": "fuyWLPbdINrj",
      "metadata": {
        "id": "fuyWLPbdINrj"
      },
      "outputs": [],
      "source": [
        "import os"
      ]
    },
    {
      "cell_type": "code",
      "execution_count": 3,
      "id": "hHFcVH_sIaZy",
      "metadata": {
        "colab": {
          "base_uri": "https://localhost:8080/"
        },
        "id": "hHFcVH_sIaZy",
        "outputId": "9a708459-b570-416a-bfac-3071d388d046"
      },
      "outputs": [
        {
          "output_type": "stream",
          "name": "stdout",
          "text": [
            "/content/drive/MyDrive/2048 Final\n"
          ]
        }
      ],
      "source": [
        "cd /content/drive/MyDrive/2048 Final"
      ]
    },
    {
      "cell_type": "code",
      "execution_count": 4,
      "id": "1ab1e506",
      "metadata": {
        "id": "1ab1e506"
      },
      "outputs": [],
      "source": [
        "import math, random\n",
        "from collections import deque\n",
        "\n",
        "import game_2048\n",
        "import Group\n",
        "\n",
        "import gym\n",
        "import numpy as np\n",
        "\n",
        "import torch\n",
        "import torch.nn as nn\n",
        "import torch.optim as optim\n",
        "import torch.autograd as autograd\n",
        "import torch.nn.functional as F"
      ]
    },
    {
      "cell_type": "code",
      "execution_count": 5,
      "id": "69fc2c7a",
      "metadata": {
        "id": "69fc2c7a",
        "colab": {
          "base_uri": "https://localhost:8080/"
        },
        "outputId": "ad35e217-a1ec-4b56-b1f7-e5af5ff6b0ce"
      },
      "outputs": [
        {
          "output_type": "stream",
          "name": "stderr",
          "text": [
            "/usr/local/lib/python3.10/dist-packages/ipykernel/ipkernel.py:283: DeprecationWarning: `should_run_async` will not call `transform_cell` automatically in the future. Please pass the result to `transformed_cell` argument and any exception that happen during thetransform in `preprocessing_exc_tuple` in IPython 7.17 and above.\n",
            "  and should_run_async(code)\n"
          ]
        }
      ],
      "source": [
        "from IPython.display import clear_output\n",
        "import matplotlib.pyplot as plt\n",
        "%matplotlib inline"
      ]
    },
    {
      "cell_type": "code",
      "execution_count": 6,
      "id": "06bc8d41",
      "metadata": {
        "id": "06bc8d41"
      },
      "outputs": [],
      "source": [
        "#m1에서 돌릴 때 GPU 사용을 위한 code...I'll do later.\n",
        "#mps_device = torch.device(\"mps\")"
      ]
    },
    {
      "cell_type": "code",
      "execution_count": 30,
      "id": "efcfa2d3",
      "metadata": {
        "id": "efcfa2d3"
      },
      "outputs": [],
      "source": [
        "num_frames = 100000\n",
        "batch_size = 256\n",
        "gamma = 0.99"
      ]
    },
    {
      "cell_type": "code",
      "execution_count": 8,
      "id": "3da1c9fd",
      "metadata": {
        "id": "3da1c9fd"
      },
      "outputs": [],
      "source": [
        "device = torch.device(\"cuda\" if torch.cuda.is_available() else \"cpu\")"
      ]
    },
    {
      "cell_type": "code",
      "execution_count": 9,
      "id": "8c40218e",
      "metadata": {
        "id": "8c40218e"
      },
      "outputs": [],
      "source": [
        "class ReplayBuffer(object):\n",
        "    def __init__(self, capacity):\n",
        "        self.buffer = deque(maxlen = capacity)\n",
        "    \n",
        "    def push(self, state, action, reward, next_state, done):\n",
        "        state = np.expand_dims(state,0)\n",
        "        #1x4를 1x1x4로 making for multithreading\n",
        "        next_state = np.expand_dims(next_state,0)\n",
        "        \n",
        "        self.buffer.append((state,action,reward,next_state,done)) #deque에 numpy arr이 들어간다는 사실\n",
        "        \n",
        "    def sample(self,batch_size):\n",
        "        state, action, reward, next_state, done = zip(*random.sample(self.buffer, batch_size))\n",
        "        #concaternate를 return한다는 것이 무슨 뜻이지?\n",
        "        return np.concatenate(state), action, reward, np.concatenate(next_state), done\n",
        "    \n",
        "    def __len__(self):\n",
        "        return len(self.buffer)"
      ]
    },
    {
      "cell_type": "code",
      "execution_count": 10,
      "id": "785ed0c8",
      "metadata": {
        "id": "785ed0c8"
      },
      "outputs": [],
      "source": [
        "env = game_2048.Game2048()"
      ]
    },
    {
      "cell_type": "code",
      "execution_count": 45,
      "id": "734869f0",
      "metadata": {
        "id": "734869f0"
      },
      "outputs": [],
      "source": [
        "epsilon_start = 1.0\n",
        "epsilon_final = 0.01\n",
        "epsilon_decay = 10000\n",
        "\n",
        "#단순 1/500이 아니라 exp(-x/500)\n",
        "epsilon_by_frame = lambda frame_idx : epsilon_final + (epsilon_start - epsilon_final)*math.exp(-1.*frame_idx/epsilon_decay)\n"
      ]
    },
    {
      "cell_type": "code",
      "execution_count": 47,
      "id": "d93ba995",
      "metadata": {
        "colab": {
          "base_uri": "https://localhost:8080/",
          "height": 448
        },
        "id": "d93ba995",
        "outputId": "c090ba7f-04d6-40d3-d017-2f90313d4124"
      },
      "outputs": [
        {
          "output_type": "execute_result",
          "data": {
            "text/plain": [
              "[<matplotlib.lines.Line2D at 0x7f97c43ae8f0>]"
            ]
          },
          "metadata": {},
          "execution_count": 47
        },
        {
          "output_type": "display_data",
          "data": {
            "text/plain": [
              "<Figure size 640x480 with 1 Axes>"
            ],
            "image/png": "[encoded data removed]"
          },
          "metadata": {}
        }
      ],
      "source": [
        "plt.plot([epsilon_by_frame(i) for i in range(100000)])"
      ]
    },
    {
      "cell_type": "markdown",
      "id": "d38a5fed",
      "metadata": {
        "id": "d38a5fed"
      },
      "source": [
        "# Deep Q Network"
      ]
    },
    {
      "cell_type": "code",
      "execution_count": 39,
      "id": "a733df59",
      "metadata": {
        "id": "a733df59"
      },
      "outputs": [],
      "source": [
        "class DQN(nn.Module):\n",
        "    def __init__(self,num_inputs,num_actions):\n",
        "        super(DQN, self).__init__() #nn.Module class의 init\n",
        "        \n",
        "        #함수 pointer 같은 것\n",
        "        self.layer1 = nn.Sequential(\n",
        "            nn.Conv2d(1,16,kernel_size=3,padding=1),\n",
        "            nn.GELU(),\n",
        "            nn.BatchNorm2d(16),\n",
        "            nn.Conv2d(16,32,kernel_size=3,padding=1),\n",
        "            nn.GELU(),\n",
        "            nn.BatchNorm2d(32),\n",
        "          )\n",
        "        self.layer_fc = nn.Sequential(\n",
        "            nn.Linear(1024,512),\n",
        "            nn.GELU(),\n",
        "            nn.BatchNorm1d(512),\n",
        "            nn.Linear(512,256),\n",
        "            nn.GELU(),\n",
        "            nn.BatchNorm1d(256),\n",
        "            nn.Linear(256,128),\n",
        "            nn.GELU(),\n",
        "            nn.BatchNorm1d(128),\n",
        "            nn.Linear(128,50),\n",
        "            nn.GELU(),\n",
        "            nn.BatchNorm1d(50),\n",
        "            nn.Linear(50,num_actions),\n",
        "        )\n",
        "        self.layer2 = nn.Sequential(\n",
        "            nn.Conv2d(32,48,kernel_size=3,padding=1),\n",
        "            nn.GELU(),\n",
        "            nn.BatchNorm2d(48),\n",
        "            nn.Conv2d(48,64,kernel_size=3,padding=1),\n",
        "            nn.GELU(),\n",
        "            nn.BatchNorm2d(64),\n",
        "          )\n",
        "        \n",
        "    def forward(self, x):\n",
        "        x = self.layer1(x)+x\n",
        "        x = self.layer2(x)\n",
        "        x = x.view(-1,16*64)\n",
        "        return self.layer_fc(x)\n",
        "\n",
        "    def act(self,state,epsilon):\n",
        "        #epsilon-greedy\n",
        "        if np.random.rand(1)[0] > epsilon:\n",
        "            state = torch.tensor(state,dtype=torch.float32)#0번 자리에 차원 하나 추가\n",
        "            state = state.to(device)\n",
        "            #state = torch.flatten(state)\n",
        "            state = state.unsqueeze(0)\n",
        "            state = state.unsqueeze(0)\n",
        "            q_value = self.forward(state)\n",
        "            #1X2로부터 최대를 구하기 위해 row의 최대 .max(1) max인 것의[1]은 idx, 요거는 하나이므로 .data[0]\n",
        "            action = int(q_value.max(1)[1]) #q_value의 second dim에서 Q_value와 index를 묶은 tuple을\n",
        "\n",
        "        else:\n",
        "            action = random.randrange(4)\n",
        "        return action"
      ]
    },
    {
      "cell_type": "code",
      "execution_count": 40,
      "id": "c026ff30",
      "metadata": {
        "id": "c026ff30"
      },
      "outputs": [],
      "source": [
        "local_network = DQN(16,4)\n",
        "target_network = DQN(16,4)\n",
        "\n",
        "local_network = local_network.to(device)\n",
        "target_network = target_network.to(device)\n",
        "\n",
        "optimizer = optim.Adam(local_network.parameters())\n",
        "\n",
        "replay_buffer = ReplayBuffer(1024)"
      ]
    },
    {
      "cell_type": "markdown",
      "id": "6f946edf",
      "metadata": {
        "id": "6f946edf"
      },
      "source": [
        "# Computing Temporal Difference Loss"
      ]
    },
    {
      "cell_type": "code",
      "execution_count": 41,
      "id": "23105c7f",
      "metadata": {
        "id": "23105c7f"
      },
      "outputs": [],
      "source": [
        "def compute_td_loss(batch_size):\n",
        "    local_network.train()\n",
        "\n",
        "    state, action, reward, next_state, done = replay_buffer.sample(batch_size)\n",
        "    \n",
        "    state = torch.tensor(state,dtype=torch.float32).to(device)\n",
        "    state = state.view([batch_size,1,4,4])\n",
        "    next_state = torch.tensor(next_state,dtype=torch.float32).to(device)\n",
        "    next_state = state.view([batch_size,1,4,4])\n",
        "    action = torch.tensor(action,dtype=torch.int64).unsqueeze(1)\n",
        "    action = action\n",
        "    action = action.to(device)\n",
        "    reward = torch.tensor(reward,dtype=torch.float32).to(device)\n",
        "    done = torch.tensor(done,dtype=torch.float32).to(device)\n",
        "    #print(state.shape)\n",
        "    q_values = local_network(state)\n",
        "    next_q_values = target_network(next_state)\n",
        "    #print(next_q_values)\n",
        "    q_value = torch.gather(q_values,1,action)\n",
        "    \n",
        "    next_q_value = next_q_values.max(1)[0] #제일 큰 값으로 선택\n",
        "    \n",
        "    expected_q_value = reward + gamma *next_q_value*(1-done) ##DDQN시 여기 수정\n",
        "    q_value = q_value.squeeze(1)\n",
        "    loss_func = nn.MSELoss()\n",
        "    loss = loss_func(expected_q_value,q_value)\n",
        "    \n",
        "    optimizer.zero_grad()\n",
        "    loss.backward()\n",
        "    optimizer.step()\n",
        "    \n",
        "    return loss\n",
        "    "
      ]
    },
    {
      "cell_type": "code",
      "execution_count": 42,
      "id": "112e57b2",
      "metadata": {
        "id": "112e57b2"
      },
      "outputs": [],
      "source": [
        "def plot(frame_idx,losses,rewards):\n",
        "    clear_output(True)\n",
        "    plt.figure(figsize=(20,5))\n",
        "    plt.subplot(131)\n",
        "    plt.title('frame %s. reward: %s' % (frame_idx,rewards[-1]))\n",
        "    plt.plot(rewards)\n",
        "    plt.subplot(132)\n",
        "    plt.title('loss')\n",
        "    plt.plot(losses)\n",
        "    plt.show()"
      ]
    },
    {
      "cell_type": "markdown",
      "id": "3dc5d89a",
      "metadata": {
        "id": "3dc5d89a"
      },
      "source": [
        "# Training"
      ]
    },
    {
      "cell_type": "code",
      "execution_count": null,
      "id": "c6ca7e4c",
      "metadata": {
        "colab": {
          "base_uri": "https://localhost:8080/",
          "height": 430
        },
        "id": "c6ca7e4c",
        "outputId": "6b17a2db-01ba-4f4c-e8cd-f95c83a0f448",
        "scrolled": true
      },
      "outputs": [
        {
          "output_type": "display_data",
          "data": {
            "text/plain": [
              "<Figure size 2000x500 with 2 Axes>"
            ],
            "image/png": "[encoded data removed]"
          },
          "metadata": {}
        }
      ],
      "source": [
        "losses = []\n",
        "all_rewards = deque(maxlen = 100)\n",
        "mean_rewards = []\n",
        "episode_reward = 0\n",
        "count = 0\n",
        "env.reset()\n",
        "state = env.board\n",
        "for frame_idx in range(1,num_frames+1):\n",
        "    epsilon = epsilon_by_frame(frame_idx) #epsilon update\n",
        "    \n",
        "    local_network.eval()\n",
        "    with torch.no_grad():\n",
        "        #print(state)\n",
        "        convert_direction = Group.representative(state)\n",
        "        converted_state = Group.rotate(state,convert_direction)\n",
        "        converted_action = local_network.act(converted_state,epsilon)\n",
        "        action = Group.action_convert(convert_direction,converted_action)\n",
        "    \n",
        "    #print(action)\n",
        "    next_state, reward, done = env.step(int(action))\n",
        "#     print(state)\n",
        "#     print(\"next : \\n\",next_state)\n",
        "    #개선 여지 있음.(tile이 바뀌지 않은 경우, 시간이 오래 걸릴 수 있음,continue로 개선 여지 있음.)\n",
        "    \n",
        "    convert_direction = Group.representative(next_state)\n",
        "    converted_next_state = Group.rotate(next_state,convert_direction)\n",
        "    replay_buffer.push(converted_state,converted_action,reward,converted_next_state,done)\n",
        "    \n",
        "    state = next_state\n",
        "    episode_reward += reward\n",
        "    if done:\n",
        "        env.reset()\n",
        "        state = env.board\n",
        "        all_rewards.append(episode_reward)\n",
        "        episode_reward = 0\n",
        "    \n",
        "    if len(replay_buffer.buffer) > batch_size:\n",
        "        loss = compute_td_loss(batch_size)\n",
        "        #print(loss)\n",
        "        losses.append(loss.item())\n",
        "\n",
        "    \n",
        "    if frame_idx %1000 == 0:\n",
        "        mean_rewards.append(np.mean(all_rewards))\n",
        "        plot(frame_idx, losses,mean_rewards)\n",
        "    \n",
        "    if frame_idx %10000 == 0:\n",
        "        target_network.load_state_dict(local_network.state_dict())"
      ]
    },
    {
      "cell_type": "code",
      "execution_count": null,
      "id": "a8e2b91d",
      "metadata": {
        "id": "a8e2b91d"
      },
      "outputs": [],
      "source": [
        "qvalue = torch.tensor([1,2,3,4],dtype = torch.float32)"
      ]
    },
    {
      "cell_type": "code",
      "execution_count": null,
      "id": "b3b11de5",
      "metadata": {
        "id": "b3b11de5"
      },
      "outputs": [],
      "source": [
        "qvalue.max(0)[1]"
      ]
    },
    {
      "cell_type": "code",
      "execution_count": null,
      "id": "187b8a33",
      "metadata": {
        "id": "187b8a33"
      },
      "outputs": [],
      "source": []
    }
  ],
  "metadata": {
    "accelerator": "GPU",
    "colab": {
      "gpuType": "A100",
      "provenance": [],
      "machine_shape": "hm"
    },
    "kernelspec": {
      "display_name": "Python 3",
      "name": "python3"
    },
    "language_info": {
      "codemirror_mode": {
        "name": "ipython",
        "version": 3
      },
      "file_extension": ".py",
      "mimetype": "text/x-python",
      "name": "python",
      "nbconvert_exporter": "python",
      "pygments_lexer": "ipython3",
      "version": "3.9.12"
    },
    "vscode": {
      "interpreter": {
        "hash": "b0fa6594d8f4cbf19f97940f81e996739fb7646882a419484c72d19e05852a7e"
      }
    }
  },
  "nbformat": 4,
  "nbformat_minor": 5
}